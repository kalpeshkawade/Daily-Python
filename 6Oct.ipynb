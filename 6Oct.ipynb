{
 "cells": [
  {
   "cell_type": "code",
   "execution_count": 20,
   "id": "799ecabb-fe3a-42e8-ac1e-889c095429d1",
   "metadata": {},
   "outputs": [],
   "source": [
    "def greet(name):\n",
    "    print(\"hello, \", name)"
   ]
  },
  {
   "cell_type": "code",
   "execution_count": 29,
   "id": "7d356940-75fb-43d3-8bc9-4c77a98a5ea3",
   "metadata": {},
   "outputs": [
    {
     "name": "stdout",
     "output_type": "stream",
     "text": [
      "hello,  Aman\n"
     ]
    }
   ],
   "source": [
    "greet(\"Aman\")"
   ]
  },
  {
   "cell_type": "code",
   "execution_count": 21,
   "id": "643aa4fd-ad6b-478f-9464-c88d3bcd62d7",
   "metadata": {},
   "outputs": [
    {
     "name": "stdout",
     "output_type": "stream",
     "text": [
      "kalpesh\n"
     ]
    }
   ],
   "source": [
    "print(\"kalpesh\")"
   ]
  },
  {
   "cell_type": "code",
   "execution_count": 22,
   "id": "0c2b951e-43f7-4412-b6d6-833550801867",
   "metadata": {},
   "outputs": [],
   "source": [
    "def add(a,b):\n",
    "    return a+b"
   ]
  },
  {
   "cell_type": "code",
   "execution_count": 23,
   "id": "9f7848e9-7312-4397-9433-5fbcc97fa5f7",
   "metadata": {},
   "outputs": [],
   "source": [
    "result = add(2,3)"
   ]
  },
  {
   "cell_type": "code",
   "execution_count": 24,
   "id": "e11195f8-ea52-4ca5-b6cc-378c3ca9982a",
   "metadata": {},
   "outputs": [
    {
     "data": {
      "text/plain": [
       "5"
      ]
     },
     "execution_count": 24,
     "metadata": {},
     "output_type": "execute_result"
    }
   ],
   "source": [
    "result"
   ]
  },
  {
   "cell_type": "code",
   "execution_count": 25,
   "id": "01871864-3624-4d39-8603-84750c82e5fb",
   "metadata": {},
   "outputs": [],
   "source": [
    "global_var = 20\n",
    "def abc():\n",
    "    print(global_var)"
   ]
  },
  {
   "cell_type": "code",
   "execution_count": 26,
   "id": "25178798-85ed-4d77-81d2-9f6388724326",
   "metadata": {},
   "outputs": [
    {
     "name": "stdout",
     "output_type": "stream",
     "text": [
      "20\n"
     ]
    }
   ],
   "source": [
    "abc()"
   ]
  },
  {
   "cell_type": "code",
   "execution_count": 27,
   "id": "34ef2dc9-6ce6-44e4-a4c1-42dca01074bf",
   "metadata": {},
   "outputs": [],
   "source": [
    "def greeting(name):\n",
    "    print(\"hello \", name)"
   ]
  },
  {
   "cell_type": "code",
   "execution_count": 28,
   "id": "3695f32d-734e-4108-bf3d-2a303dbf127e",
   "metadata": {},
   "outputs": [
    {
     "name": "stdout",
     "output_type": "stream",
     "text": [
      "hello  kalpesh\n"
     ]
    }
   ],
   "source": [
    "greeting(\"kalpesh\")"
   ]
  },
  {
   "cell_type": "code",
   "execution_count": 2,
   "id": "346de125-c142-4938-893a-c5b757359881",
   "metadata": {},
   "outputs": [
    {
     "name": "stdin",
     "output_type": "stream",
     "text": [
      "Enter a number:  8\n"
     ]
    },
    {
     "name": "stdout",
     "output_type": "stream",
     "text": [
      "The number is positive\n"
     ]
    }
   ],
   "source": [
    "num = float(input(\"Enter a number: \"))\n",
    "if num>0:\n",
    "    print(\"The number is positive\")\n",
    "else:\n",
    "    print(\"The number is Not positive\")"
   ]
  },
  {
   "cell_type": "code",
   "execution_count": 6,
   "id": "5a98956c-eb10-4c8f-b419-d20b543c8eeb",
   "metadata": {},
   "outputs": [
    {
     "name": "stdin",
     "output_type": "stream",
     "text": [
      "Enter a temperature:  -1\n"
     ]
    },
    {
     "name": "stdout",
     "output_type": "stream",
     "text": [
      "cold day\n"
     ]
    }
   ],
   "source": [
    "temp = int(input(\"Enter a temperature: \"))\n",
    "if temp>30:\n",
    "    print(\"hot day\")\n",
    "elif temp<10:\n",
    "    print(\"cold day\")\n",
    "else:\n",
    "    print(\"Pleasant day\")"
   ]
  },
  {
   "cell_type": "code",
   "execution_count": 13,
   "id": "77087481-9bcc-42bc-9055-6c5731290116",
   "metadata": {},
   "outputs": [
    {
     "name": "stdin",
     "output_type": "stream",
     "text": [
      "Enter a number:  22\n",
      "Enter a number:  2\n",
      "Enter a number:  22\n"
     ]
    },
    {
     "name": "stdout",
     "output_type": "stream",
     "text": [
      "numbers are equal\n"
     ]
    }
   ],
   "source": [
    "#max of 3 number\n",
    "num1 = int(input(\"Enter a number: \"))\n",
    "num2 = int(input(\"Enter a number: \"))\n",
    "num3 = int(input(\"Enter a number: \"))\n",
    "\n",
    "if num1>num2 and num1>num3:\n",
    "    print(num1,\" is max\")\n",
    "elif num2>num1 and num2>num3:\n",
    "    print(num2, \" is max\")\n",
    "elif num3>num1 and num3>num2:\n",
    "    print(num3,\" is max\")\n",
    "else:\n",
    "    print(\"numbers are equal\")"
   ]
  },
  {
   "cell_type": "code",
   "execution_count": 17,
   "id": "bf1f30f5-e357-49bc-88d3-7dccc0295505",
   "metadata": {},
   "outputs": [
    {
     "name": "stdin",
     "output_type": "stream",
     "text": [
      "Enter Year:  2025\n"
     ]
    },
    {
     "name": "stdout",
     "output_type": "stream",
     "text": [
      "Not Leap Year 2025\n"
     ]
    }
   ],
   "source": [
    "#Leap Year\n",
    "year = int(input(\"Enter Year: \"))\n",
    "if year%400 == 0 or year%4==0 and year%100 != 0:\n",
    "    print(\"Leap Year\", year)\n",
    "else:\n",
    "    print(\"Not Leap Year\", year)"
   ]
  },
  {
   "cell_type": "code",
   "execution_count": null,
   "id": "51691f99-d3f8-49bc-a0a4-f83859546047",
   "metadata": {},
   "outputs": [],
   "source": []
  }
 ],
 "metadata": {
  "kernelspec": {
   "display_name": "Python 3 (ipykernel)",
   "language": "python",
   "name": "python3"
  },
  "language_info": {
   "codemirror_mode": {
    "name": "ipython",
    "version": 3
   },
   "file_extension": ".py",
   "mimetype": "text/x-python",
   "name": "python",
   "nbconvert_exporter": "python",
   "pygments_lexer": "ipython3",
   "version": "3.13.7"
  }
 },
 "nbformat": 4,
 "nbformat_minor": 5
}
