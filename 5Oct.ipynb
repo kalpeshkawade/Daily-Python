{
 "cells": [
  {
   "cell_type": "markdown",
   "id": "62b22503-8520-4657-ba35-5c991bd1d8b1",
   "metadata": {},
   "source": [
    "1. Operations"
   ]
  },
  {
   "cell_type": "code",
   "execution_count": 3,
   "id": "910a903c-ec70-4b81-91ec-74c2d44cb9fe",
   "metadata": {},
   "outputs": [
    {
     "name": "stdin",
     "output_type": "stream",
     "text": [
      "enter first number:  2\n",
      "enter second number:  4\n"
     ]
    },
    {
     "name": "stdout",
     "output_type": "stream",
     "text": [
      "1. Add\n",
      "2. Substract\n",
      "3. Multiply\n",
      "4. Divide\n"
     ]
    },
    {
     "name": "stdin",
     "output_type": "stream",
     "text": [
      "Enter your choice (1-4):  1\n"
     ]
    },
    {
     "name": "stdout",
     "output_type": "stream",
     "text": [
      "Result =  6.0\n"
     ]
    }
   ],
   "source": [
    "a = float(input(\"enter first number: \"))\n",
    "b = float(input(\"enter second number: \"))\n",
    "\n",
    "print(\"1. Add\")\n",
    "print(\"2. Substract\")\n",
    "print(\"3. Multiply\")\n",
    "print(\"4. Divide\")\n",
    "\n",
    "ch = int(input(\"Enter your choice (1-4): \"))\n",
    "\n",
    "if ch==1:\n",
    "    print(\"Result = \", a+b)\n",
    "elif ch==2:\n",
    "    print(\"Result = \", a-b)    \n",
    "elif ch==3:\n",
    "    print(\"Result = \", a*b)\n",
    "elif ch==4:\n",
    "    if b!=0:\n",
    "        print(\"Result = \", a/b)\n",
    "    else: \n",
    "        print(\"cannot divide by zero\")\n",
    "else:\n",
    "    print(\"Invalid choice\")"
   ]
  },
  {
   "cell_type": "markdown",
   "id": "ba4040b0-933e-476e-95d2-9ee07f721aeb",
   "metadata": {},
   "source": [
    "2 . Even number"
   ]
  },
  {
   "cell_type": "code",
   "execution_count": 9,
   "id": "b78caf24-f2f6-49e7-a482-43c5a8377158",
   "metadata": {},
   "outputs": [
    {
     "name": "stdin",
     "output_type": "stream",
     "text": [
      "Enter a number 1 2\n",
      "Enter a number 2 10\n"
     ]
    },
    {
     "name": "stdout",
     "output_type": "stream",
     "text": [
      "Even number betwwen 2and10:\n",
      "2\n",
      "4\n",
      "6\n",
      "8\n",
      "10\n"
     ]
    }
   ],
   "source": [
    "num1 = int(input(\"Enter a number 1\"))\n",
    "num2 = int(input(\"Enter a number 2\"))\n",
    "count = 0\n",
    "print(\"Even number betwwen \"+ str(num1) + \"and\" + str(num2) +\":\")\n",
    "for i in  range(num1,num2+1):\n",
    "    if(i%2==0):\n",
    "        print(i)"
   ]
  },
  {
   "cell_type": "code",
   "execution_count": 14,
   "id": "9d6a573e-1449-4411-8b1d-582c50bd15e4",
   "metadata": {},
   "outputs": [
    {
     "name": "stdin",
     "output_type": "stream",
     "text": [
      "enter a number:  5\n"
     ]
    },
    {
     "name": "stdout",
     "output_type": "stream",
     "text": [
      "0\n"
     ]
    }
   ],
   "source": [
    "num = int(input(\"enter a number: \"))\n",
    "factorial = 0\n",
    "if(num > 0):\n",
    "    for i in enumerate(str(num)):\n",
    "        factorial *= int(i[1])\n",
    "print(factorial)"
   ]
  },
  {
   "cell_type": "code",
   "execution_count": null,
   "id": "2378b3f3-708c-4bf8-8c68-9ae724c13139",
   "metadata": {},
   "outputs": [],
   "source": []
  }
 ],
 "metadata": {
  "kernelspec": {
   "display_name": "Python 3 (ipykernel)",
   "language": "python",
   "name": "python3"
  },
  "language_info": {
   "codemirror_mode": {
    "name": "ipython",
    "version": 3
   },
   "file_extension": ".py",
   "mimetype": "text/x-python",
   "name": "python",
   "nbconvert_exporter": "python",
   "pygments_lexer": "ipython3",
   "version": "3.13.7"
  }
 },
 "nbformat": 4,
 "nbformat_minor": 5
}
