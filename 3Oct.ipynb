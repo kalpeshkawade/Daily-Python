{
 "cells": [
  {
   "cell_type": "markdown",
   "id": "f377ee38-1be0-417e-8680-c6fe1a3f8ccc",
   "metadata": {},
   "source": [
    "1. Write a program to find the sum of first N natural numbers (example: 1 + 2 + 3 + … + N)."
   ]
  },
  {
   "cell_type": "code",
   "execution_count": 18,
   "id": "fc3b7963-5392-4a44-9e15-9ed772e755d2",
   "metadata": {},
   "outputs": [
    {
     "name": "stdin",
     "output_type": "stream",
     "text": [
      "enter a number:  100\n"
     ]
    },
    {
     "name": "stdout",
     "output_type": "stream",
     "text": [
      "5050\n"
     ]
    }
   ],
   "source": [
    "num = int(input(\"enter a number: \"))\n",
    "x = 0\n",
    "if(num > 0):\n",
    "    for i in range(1,num+1):\n",
    "        x += i \n",
    "    print(x)\n",
    "else:\n",
    "    print(\"Pleae enter a Natural Number\")"
   ]
  },
  {
   "cell_type": "markdown",
   "id": "500dcb88-9a3e-4033-9b7c-a0996e602d74",
   "metadata": {},
   "source": [
    "2 .Take a number as input and print its multiplication table (1 to 10)."
   ]
  },
  {
   "cell_type": "code",
   "execution_count": 28,
   "id": "be6a5fc3-b2a7-4e4e-9187-d844e19716c2",
   "metadata": {},
   "outputs": [
    {
     "name": "stdin",
     "output_type": "stream",
     "text": [
      "enter a number for Table:  11\n"
     ]
    },
    {
     "name": "stdout",
     "output_type": "stream",
     "text": [
      "11 x 1 = 11\n",
      "11 x 2 = 22\n",
      "11 x 3 = 33\n",
      "11 x 4 = 44\n",
      "11 x 5 = 55\n",
      "11 x 6 = 66\n",
      "11 x 7 = 77\n",
      "11 x 8 = 88\n",
      "11 x 9 = 99\n",
      "11 x 10 = 110\n"
     ]
    }
   ],
   "source": [
    "num = int(input(\"enter a number for Table: \" ))\n",
    "if(num > 0):\n",
    "    for i in range(1,11):\n",
    "        print(num ,'x',i,\"=\",num*i)\n",
    "else:\n",
    "    print(\"Enter valid positie number\")"
   ]
  },
  {
   "cell_type": "markdown",
   "id": "8305e50f-a808-4cec-be78-4bf99e0fd4ef",
   "metadata": {},
   "source": [
    "3. Take a number as input and check if it reads the same backward (e.g., 121, 1331)."
   ]
  },
  {
   "cell_type": "code",
   "execution_count": 62,
   "id": "4affd509-bd4c-4f3e-b1a6-bdf8770e9659",
   "metadata": {},
   "outputs": [
    {
     "name": "stdin",
     "output_type": "stream",
     "text": [
      "Enter a number:  1331\n"
     ]
    },
    {
     "name": "stdout",
     "output_type": "stream",
     "text": [
      "1331  is Palindrome\n"
     ]
    }
   ],
   "source": [
    "num = input(\"Enter a number: \")\n",
    "Palindrome = ''\n",
    "for i in range(len(num)-1,-1,-1):\n",
    "    Palindrome += num[i]\n",
    "if(Palindrome == num):\n",
    "    print(Palindrome,\" is Palindrome\")\n",
    "else:\n",
    "    print(\"Not a Palindrome\")"
   ]
  },
  {
   "cell_type": "code",
   "execution_count": 80,
   "id": "af315698-ed3e-44ce-a67e-fab450eca32f",
   "metadata": {},
   "outputs": [
    {
     "name": "stdin",
     "output_type": "stream",
     "text": [
      "Enter a number:  234\n"
     ]
    },
    {
     "name": "stdout",
     "output_type": "stream",
     "text": [
      "Not a Palindrome\n"
     ]
    }
   ],
   "source": [
    "num = input(\"Enter a number: \")\n",
    "Palindrome = ''\n",
    "for i in enumerate(reversed(num)):\n",
    "    Palindrome += i[1]\n",
    "if(Palindrome == num):\n",
    "    print(Palindrome,\" is Palindrome\")\n",
    "else:\n",
    "    print(\"Not a Palindrome\")  "
   ]
  },
  {
   "cell_type": "code",
   "execution_count": 2,
   "id": "c0f45da3-a09b-4324-839f-6257f1050fd1",
   "metadata": {},
   "outputs": [
    {
     "name": "stdin",
     "output_type": "stream",
     "text": [
      "Enter a number:  12\n"
     ]
    },
    {
     "name": "stdout",
     "output_type": "stream",
     "text": [
      "Not a Palindrome\n"
     ]
    }
   ],
   "source": [
    "num = input(\"Enter a number: \")\n",
    "if num == num[::-1]:   # reverse string with slicing\n",
    "    print(num, \"is Palindrome\")\n",
    "else:\n",
    "    print(\"Not a Palindrome\")"
   ]
  },
  {
   "cell_type": "markdown",
   "id": "752227a9-cd2e-4776-8ae7-b083b5403c14",
   "metadata": {},
   "source": [
    "4. Write a program to find the factorial of a number using a loop."
   ]
  },
  {
   "cell_type": "code",
   "execution_count": 14,
   "id": "b811212b-f6e6-48af-92f1-a6b80a2c9df8",
   "metadata": {},
   "outputs": [
    {
     "name": "stdin",
     "output_type": "stream",
     "text": [
      "enter a number:  234\n"
     ]
    },
    {
     "ename": "TypeError",
     "evalue": "unsupported operand type(s) for +=: 'int' and 'str'",
     "output_type": "error",
     "traceback": [
      "\u001b[31m---------------------------------------------------------------------------\u001b[39m",
      "\u001b[31mTypeError\u001b[39m                                 Traceback (most recent call last)",
      "\u001b[36mCell\u001b[39m\u001b[36m \u001b[39m\u001b[32mIn[14]\u001b[39m\u001b[32m, line 5\u001b[39m\n\u001b[32m      3\u001b[39m \u001b[38;5;28;01mif\u001b[39;00m(num > \u001b[32m0\u001b[39m):\n\u001b[32m      4\u001b[39m     \u001b[38;5;28;01mfor\u001b[39;00m i \u001b[38;5;129;01min\u001b[39;00m \u001b[38;5;28menumerate\u001b[39m(\u001b[38;5;28mstr\u001b[39m(num)):\n\u001b[32m----> \u001b[39m\u001b[32m5\u001b[39m         \u001b[43mfactorial\u001b[49m\u001b[43m \u001b[49m\u001b[43m+\u001b[49m\u001b[43m=\u001b[49m\u001b[43m \u001b[49m\u001b[43mi\u001b[49m\u001b[43m[\u001b[49m\u001b[32;43m1\u001b[39;49m\u001b[43m]\u001b[49m\n",
      "\u001b[31mTypeError\u001b[39m: unsupported operand type(s) for +=: 'int' and 'str'"
     ]
    }
   ],
   "source": [
    "num = int(input(\"enter a number: \"))\n",
    "factorial = 0\n",
    "if(num > 0):\n",
    "    for i in enumerate(str(num)):\n",
    "        factorial += i[1]"
   ]
  },
  {
   "cell_type": "code",
   "execution_count": null,
   "id": "cc5c5425-4ab0-47cf-b998-42d9d97c665c",
   "metadata": {},
   "outputs": [],
   "source": []
  }
 ],
 "metadata": {
  "kernelspec": {
   "display_name": "Python 3 (ipykernel)",
   "language": "python",
   "name": "python3"
  },
  "language_info": {
   "codemirror_mode": {
    "name": "ipython",
    "version": 3
   },
   "file_extension": ".py",
   "mimetype": "text/x-python",
   "name": "python",
   "nbconvert_exporter": "python",
   "pygments_lexer": "ipython3",
   "version": "3.13.7"
  }
 },
 "nbformat": 4,
 "nbformat_minor": 5
}
