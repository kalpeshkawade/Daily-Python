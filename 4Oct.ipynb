{
 "cells": [
  {
   "cell_type": "markdown",
   "id": "f6155c92-495a-477b-97f3-e928870f96ca",
   "metadata": {},
   "source": [
    "1 .Area of circle"
   ]
  },
  {
   "cell_type": "code",
   "execution_count": 5,
   "id": "c347a692-f84f-4283-9936-57667ff63cc9",
   "metadata": {},
   "outputs": [
    {
     "name": "stdout",
     "output_type": "stream",
     "text": [
      "153.93804002589985\n"
     ]
    }
   ],
   "source": [
    "import math\n",
    "r = 7\n",
    "area = math.pi*r**2\n",
    "print(area)"
   ]
  },
  {
   "cell_type": "markdown",
   "id": "ef5636fb-3ace-42c6-a8ae-278b5b93ca8b",
   "metadata": {},
   "source": [
    "2. Area of square"
   ]
  },
  {
   "cell_type": "code",
   "execution_count": 8,
   "id": "9b875e16-5bf2-4472-ada6-264cd8ed9334",
   "metadata": {},
   "outputs": [
    {
     "name": "stdout",
     "output_type": "stream",
     "text": [
      "100\n"
     ]
    }
   ],
   "source": [
    "s = 10\n",
    "area = s**2\n",
    "print(area)"
   ]
  },
  {
   "cell_type": "markdown",
   "id": "24ccd56a-2ebc-4ae3-8a5a-db8687ba7996",
   "metadata": {},
   "source": [
    "3. area of rectangle"
   ]
  },
  {
   "cell_type": "code",
   "execution_count": 9,
   "id": "34dce024-7a8a-4b19-b319-95f1e378ef7a",
   "metadata": {},
   "outputs": [
    {
     "name": "stdout",
     "output_type": "stream",
     "text": [
      "32\n"
     ]
    }
   ],
   "source": [
    "l = 4\n",
    "b = 8\n",
    "Area = l*b\n",
    "print(Area)"
   ]
  },
  {
   "cell_type": "code",
   "execution_count": null,
   "id": "ad9419b4-193d-4864-944a-33a75fb69b6e",
   "metadata": {},
   "outputs": [],
   "source": []
  }
 ],
 "metadata": {
  "kernelspec": {
   "display_name": "Python 3 (ipykernel)",
   "language": "python",
   "name": "python3"
  },
  "language_info": {
   "codemirror_mode": {
    "name": "ipython",
    "version": 3
   },
   "file_extension": ".py",
   "mimetype": "text/x-python",
   "name": "python",
   "nbconvert_exporter": "python",
   "pygments_lexer": "ipython3",
   "version": "3.13.7"
  }
 },
 "nbformat": 4,
 "nbformat_minor": 5
}
