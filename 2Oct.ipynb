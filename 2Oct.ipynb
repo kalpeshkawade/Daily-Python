{
 "cells": [
  {
   "cell_type": "code",
   "execution_count": 1,
   "id": "c963f0be-2cb4-4527-bef2-2a781d04a399",
   "metadata": {},
   "outputs": [
    {
     "name": "stdout",
     "output_type": "stream",
     "text": [
      "7 14 21\n"
     ]
    }
   ],
   "source": [
    "a = 7\n",
    "b = 14\n",
    "c = 21\n",
    "if c%b == 0:\n",
    "    if b%a == 0:\n",
    "        a, b, c = b, c, a\n",
    "print(a, b, c)"
   ]
  },
  {
   "cell_type": "code",
   "execution_count": 2,
   "id": "e07350d0-b1bf-453d-8ab7-f4f544dab443",
   "metadata": {},
   "outputs": [
    {
     "name": "stdout",
     "output_type": "stream",
     "text": [
      "20 20\n"
     ]
    }
   ],
   "source": [
    "a = 20\n",
    "b = 15\n",
    "if not (a<b or a==b):\n",
    "    if a>b:\n",
    "        b+=5\n",
    "    else:\n",
    "        a -= 5\n",
    "print(a,b)        "
   ]
  },
  {
   "cell_type": "markdown",
   "id": "6b0529f7-7e30-42cb-8763-cb9ad357ce68",
   "metadata": {},
   "source": [
    "1. Write a program to take a number as input and check whether it is even or odd."
   ]
  },
  {
   "cell_type": "code",
   "execution_count": 12,
   "id": "06fff705-65d3-4fae-8212-6b2ec5837f43",
   "metadata": {},
   "outputs": [
    {
     "name": "stdin",
     "output_type": "stream",
     "text": [
      "Enter a number: 1\n"
     ]
    },
    {
     "name": "stdout",
     "output_type": "stream",
     "text": [
      "odd\n"
     ]
    }
   ],
   "source": [
    "num = int(input('Enter a number:'))\n",
    "if(num % 2 == 0):\n",
    "    print(\"even\")\n",
    "else:\n",
    "    print(\"odd\")"
   ]
  },
  {
   "cell_type": "markdown",
   "id": "b835b745-3548-47a8-99b0-99e7fbc848f5",
   "metadata": {},
   "source": [
    "2. Take two numbers as input and print which one is greater (or if they are equal)."
   ]
  },
  {
   "cell_type": "code",
   "execution_count": 15,
   "id": "7df52c06-6884-4ea4-a200-7ce8a1a73703",
   "metadata": {},
   "outputs": [
    {
     "name": "stdin",
     "output_type": "stream",
     "text": [
      "Enter a Number:  10\n",
      "Enter a Number:  10\n"
     ]
    },
    {
     "name": "stdout",
     "output_type": "stream",
     "text": [
      "10 10 number is equal\n"
     ]
    }
   ],
   "source": [
    "num1 = int(input(\"Enter a Number: \"))\n",
    "num2 = int(input(\"Enter a Number: \"))\n",
    "if(num1 > num2):\n",
    "    print(num1,\"is max number\")\n",
    "elif(num2 > num1):\n",
    "    print(num2,\"is max number\")\n",
    "else:\n",
    "    print(num1,num2,\"number is equal\")"
   ]
  },
  {
   "cell_type": "markdown",
   "id": "c14f47e3-383e-435d-94cc-d7c5894acada",
   "metadata": {},
   "source": [
    "3. Take two numbers and an operator (+, -, *, /) as input and perform the calculation."
   ]
  },
  {
   "cell_type": "code",
   "execution_count": 26,
   "id": "7bce0303-12ce-49f9-894c-45488218a688",
   "metadata": {},
   "outputs": [
    {
     "name": "stdin",
     "output_type": "stream",
     "text": [
      "enter a number: 10\n",
      "enter a number: 2\n",
      "enter a operation + , - , * , /:  /\n"
     ]
    },
    {
     "name": "stdout",
     "output_type": "stream",
     "text": [
      "10 2 Division is 5.0\n"
     ]
    }
   ],
   "source": [
    "num1 = int(input(\"enter a number:\"))\n",
    "num2 = int(input(\"enter a number:\"))\n",
    "inputa = input(\"enter a operation + , - , * , /: \")\n",
    "if(inputa == '+'):\n",
    "    print(num1,num2,\"Addition is \",num1+num2)\n",
    "elif(inputa == '-'):\n",
    "    print(num1,num2,\"Substraction is \",num1 - num2)\n",
    "elif(inputa == '*'):\n",
    "    print(num1,num2,\"Multiplication is\",num1 * num2)\n",
    "elif(inputa == '/'):\n",
    "    print(num1,num2,\"Division is\",num1 / num2)\n",
    "else:\n",
    "    print(\"enter valid operation\")"
   ]
  },
  {
   "cell_type": "code",
   "execution_count": null,
   "id": "c512e8a1-3fe3-4a4c-9360-7f90854ab91c",
   "metadata": {},
   "outputs": [],
   "source": []
  }
 ],
 "metadata": {
  "kernelspec": {
   "display_name": "Python 3 (ipykernel)",
   "language": "python",
   "name": "python3"
  },
  "language_info": {
   "codemirror_mode": {
    "name": "ipython",
    "version": 3
   },
   "file_extension": ".py",
   "mimetype": "text/x-python",
   "name": "python",
   "nbconvert_exporter": "python",
   "pygments_lexer": "ipython3",
   "version": "3.13.7"
  }
 },
 "nbformat": 4,
 "nbformat_minor": 5
}
